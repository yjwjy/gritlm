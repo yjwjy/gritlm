{
 "cells": [
  {
   "cell_type": "code",
   "execution_count": 11,
   "metadata": {},
   "outputs": [
    {
     "name": "stdout",
     "output_type": "stream",
     "text": [
      "1\n"
     ]
    }
   ],
   "source": [
    "import torch\n",
    "import os\n",
    "os.environ['CUDA_VISIBLE_DEVICES'] = '4'\n",
    "print(torch.cuda.device_count())\n"
   ]
  },
  {
   "cell_type": "code",
   "execution_count": 12,
   "metadata": {},
   "outputs": [
    {
     "data": {
      "text/plain": [
       "<module 'gritlm' from '/root/gritlm/gritlm/__init__.py'>"
      ]
     },
     "execution_count": 12,
     "metadata": {},
     "output_type": "execute_result"
    }
   ],
   "source": [
    "import importlib\n",
    "import gritlm\n",
    "importlib.reload(module=gritlm)"
   ]
  },
  {
   "cell_type": "code",
   "execution_count": 14,
   "metadata": {},
   "outputs": [
    {
     "name": "stderr",
     "output_type": "stream",
     "text": [
      "Loading checkpoint shards: 100%|██████████| 3/3 [00:01<00:00,  1.85it/s]\n"
     ]
    },
    {
     "name": "stdout",
     "output_type": "stream",
     "text": [
      "Created GritLM: torch.bfloat16 dtype, max pool, unified mode, bbcc attn\n"
     ]
    }
   ],
   "source": [
    "from gritlm import GritLM\n",
    "\n",
    "# Loads the model for both capabilities; If you only need embedding pass `mode=\"embedding\"` to save memory (no lm head)\n",
    "model = GritLM(\"GritLM/GritLM-7B\", torch_dtype=\"auto\", pooling_method='max')\n",
    "# To load the 8x7B you will likely need multiple GPUs.\n",
    "# All the kwargs are passed to HF from_pretrained so you can just do the below to load on multiple GPUs:\n",
    "# model = GritLM(\"GritLM/GritLM-8x7B\", torch_dtype=\"auto\", device_map=\"auto\")\n",
    "# You can also load other models e.g.\n",
    "# model = GritLM(\"Muennighoff/SGPT-125M-weightedmean-nli-bitfit\", pooling_method=\"weighted_mean\", attn=None)\n",
    "# model = GritLM(\"hkunlp/instructor-base\", pooling_method=\"mean\", attn=None)\n",
    "\n",
    "### Embedding/Representation ###\n",
    "instruction = \"Given a scientific paper title, retrieve the paper's abstract\"\n",
    "queries = ['Bitcoin: A Peer-to-Peer Electronic Cash System', 'Generative Representational Instruction Tuning']\n",
    "documents = [\n",
    "    \"A purely peer-to-peer version of electronic cash would allow online payments to be sent directly from one party to another without going through a financial institution. Digital signatures provide part of the solution, but the main benefits are lost if a trusted third party is still required to prevent double-spending. We propose a solution to the double-spending problem using a peer-to-peer network. The network timestamps transactions by hashing them into an ongoing chain of hash-based proof-of-work, forming a record that cannot be changed without redoing the proof-of-work. The longest chain not only serves as proof of the sequence of events witnessed, but proof that it came from the largest pool of CPU power. As long as a majority of CPU power is controlled by nodes that are not cooperating to attack the network, they'll generate the longest chain and outpace attackers. The network itself requires minimal structure. Messages are broadcast on a best effort basis, and nodes can leave and rejoin the network at will, accepting the longest proof-of-work chain as proof of what happened while they were gone.\",\n",
    "    \"All text-based language problems can be reduced to either generation or embedding. Current models only perform well at one or the other. We introduce generative representational instruction tuning (GRIT) whereby a large language model is trained to handle both generative and embedding tasks by distinguishing between them through instructions. Compared to other open models, our resulting GritLM 7B sets a new state of the art on the Massive Text Embedding Benchmark (MTEB) and outperforms all models up to its size on a range of generative tasks. By scaling up further, GritLM 8X7B outperforms all open generative language models that we tried while still being among the best embedding models. Notably, we find that GRIT matches training on only generative or embedding data, thus we can unify both at no performance loss. Among other benefits, the unification via GRIT speeds up Retrieval-Augmented Generation (RAG) by > 60% for long documents, by no longer requiring separate retrieval and generation models. Models, code, etc. are freely available at https://github.com/ContextualAI/gritlm.\"\n",
    "]\n",
    "\n",
    "def gritlm_instruction(instruction):\n",
    "    return \"<|user|>\\n\" + instruction + \"\\n<|embed|>\\n\" if instruction else \"<|embed|>\\n\""
   ]
  },
  {
   "cell_type": "code",
   "execution_count": 15,
   "metadata": {},
   "outputs": [],
   "source": [
    "d_rep = model.sparse_encode(documents, instruction=gritlm_instruction(\"\"))\n"
   ]
  },
  {
   "cell_type": "code",
   "execution_count": 16,
   "metadata": {},
   "outputs": [
    {
     "data": {
      "text/plain": [
       "(2, 32000)"
      ]
     },
     "execution_count": 16,
     "metadata": {},
     "output_type": "execute_result"
    }
   ],
   "source": [
    "d_rep.shape"
   ]
  },
  {
   "cell_type": "code",
   "execution_count": 17,
   "metadata": {},
   "outputs": [
    {
     "name": "stdout",
     "output_type": "stream",
     "text": [
      "Cosine similarity between \"Bitcoin: A Peer\" and \"A purely peer-t\" is: 0.878\n",
      "Cosine similarity between \"Bitcoin: A Peer\" and \"All text-based \" is: 0.908\n",
      "Cosine similarity between \"Generative Repr\" and \"A purely peer-t\" is: 0.876\n",
      "Cosine similarity between \"Generative Repr\" and \"All text-based \" is: 0.915\n"
     ]
    }
   ],
   "source": [
    "# No need to add instruction for retrieval documents\n",
    "d_rep = model.sparse_encode(documents, instruction=gritlm_instruction(\"\"))\n",
    "q_rep = model.sparse_encode(queries, instruction=gritlm_instruction(instruction))\n",
    "\n",
    "from scipy.spatial.distance import cosine\n",
    "cosine_sim_q0_d0 = 1 - cosine(q_rep[0], d_rep[0])\n",
    "cosine_sim_q0_d1 = 1 - cosine(q_rep[0], d_rep[1])\n",
    "cosine_sim_q1_d0 = 1 - cosine(q_rep[1], d_rep[0])\n",
    "cosine_sim_q1_d1 = 1 - cosine(q_rep[1], d_rep[1])\n",
    "\n",
    "print(\"Cosine similarity between \\\"%s\\\" and \\\"%s\\\" is: %.3f\" % (queries[0][:15], documents[0][:15], cosine_sim_q0_d0))\n",
    "# Cosine similarity between \"Bitcoin: A Peer\" and \"A purely peer-t\" is: 0.608\n",
    "print(\"Cosine similarity between \\\"%s\\\" and \\\"%s\\\" is: %.3f\" % (queries[0][:15], documents[1][:15], cosine_sim_q0_d1))\n",
    "# Cosine similarity between \"Bitcoin: A Peer\" and \"All text-based \" is: 0.101\n",
    "print(\"Cosine similarity between \\\"%s\\\" and \\\"%s\\\" is: %.3f\" % (queries[1][:15], documents[0][:15], cosine_sim_q1_d0))\n",
    "# Cosine similarity between \"Generative Repr\" and \"A purely peer-t\" is: 0.120\n",
    "print(\"Cosine similarity between \\\"%s\\\" and \\\"%s\\\" is: %.3f\" % (queries[1][:15], documents[1][:15], cosine_sim_q1_d1))\n",
    "# Cosine similarity between \"Generative Repr\" and \"All text-based \" is: 0.533\n"
   ]
  },
  {
   "cell_type": "code",
   "execution_count": 7,
   "metadata": {},
   "outputs": [
    {
     "data": {
      "text/plain": [
       "(2, 32000)"
      ]
     },
     "execution_count": 7,
     "metadata": {},
     "output_type": "execute_result"
    }
   ],
   "source": [
    "d_rep.shape"
   ]
  },
  {
   "cell_type": "code",
   "execution_count": null,
   "metadata": {},
   "outputs": [],
   "source": []
  },
  {
   "cell_type": "code",
   "execution_count": 29,
   "metadata": {},
   "outputs": [],
   "source": [
    "if model.projection:\n",
    "    print('True')"
   ]
  },
  {
   "cell_type": "code",
   "execution_count": 3,
   "metadata": {},
   "outputs": [
    {
     "name": "stderr",
     "output_type": "stream",
     "text": [
      "/root/miniconda3/envs/grit/lib/python3.10/site-packages/tqdm/auto.py:21: TqdmWarning: IProgress not found. Please update jupyter and ipywidgets. See https://ipywidgets.readthedocs.io/en/stable/user_install.html\n",
      "  from .autonotebook import tqdm as notebook_tqdm\n",
      "Loading checkpoint shards: 100%|██████████| 3/3 [01:17<00:00, 25.91s/it]\n"
     ]
    },
    {
     "name": "stdout",
     "output_type": "stream",
     "text": [
      "Created GritLM: torch.bfloat16 dtype, mean pool, embedding mode, bbcc attn\n"
     ]
    }
   ],
   "source": []
  },
  {
   "cell_type": "code",
   "execution_count": 1,
   "metadata": {},
   "outputs": [
    {
     "name": "stderr",
     "output_type": "stream",
     "text": [
      "/home/data0/wjy/conda/grit/lib/python3.10/site-packages/tqdm/auto.py:21: TqdmWarning: IProgress not found. Please update jupyter and ipywidgets. See https://ipywidgets.readthedocs.io/en/stable/user_install.html\n",
      "  from .autonotebook import tqdm as notebook_tqdm\n"
     ]
    }
   ],
   "source": [
    "from mteb import MTEB"
   ]
  },
  {
   "cell_type": "code",
   "execution_count": 2,
   "metadata": {},
   "outputs": [],
   "source": [
    "evaluation = MTEB(tasks=['MSMARCO'], task_langs=['en'])"
   ]
  },
  {
   "cell_type": "code",
   "execution_count": null,
   "metadata": {},
   "outputs": [],
   "source": [
    "evaluation.load_tasks_data()"
   ]
  },
  {
   "cell_type": "code",
   "execution_count": null,
   "metadata": {},
   "outputs": [],
   "source": [
    "import datasets \n",
    "datasets.load_dataset('mteb/msmarco')"
   ]
  },
  {
   "cell_type": "code",
   "execution_count": 2,
   "metadata": {},
   "outputs": [
    {
     "name": "stderr",
     "output_type": "stream",
     "text": [
      "Downloading data: 100%|██████████| 54.0k/54.0k [00:00<00:00, 65.5kB/s]\n",
      "Downloading data: 100%|██████████| 19.9k/19.9k [00:00<00:00, 51.0kB/s]\n",
      "Generating train split: 100%|██████████| 919/919 [00:00<00:00, 30048.30 examples/s]\n",
      "Generating test split: 100%|██████████| 339/339 [00:00<00:00, 116413.06 examples/s]\n"
     ]
    },
    {
     "data": {
      "text/plain": [
       "DatasetDict({\n",
       "    train: Dataset({\n",
       "        features: ['query-id', 'corpus-id', 'score'],\n",
       "        num_rows: 919\n",
       "    })\n",
       "    test: Dataset({\n",
       "        features: ['query-id', 'corpus-id', 'score'],\n",
       "        num_rows: 339\n",
       "    })\n",
       "})"
      ]
     },
     "execution_count": 2,
     "metadata": {},
     "output_type": "execute_result"
    }
   ],
   "source": [
    "from datasets import load_dataset\n",
    "\n",
    "load_dataset('mteb/scifact', 'default')"
   ]
  },
  {
   "cell_type": "code",
   "execution_count": null,
   "metadata": {},
   "outputs": [],
   "source": []
  }
 ],
 "metadata": {
  "kernelspec": {
   "display_name": "grit",
   "language": "python",
   "name": "python3"
  },
  "language_info": {
   "codemirror_mode": {
    "name": "ipython",
    "version": 3
   },
   "file_extension": ".py",
   "mimetype": "text/x-python",
   "name": "python",
   "nbconvert_exporter": "python",
   "pygments_lexer": "ipython3",
   "version": "3.10.14"
  }
 },
 "nbformat": 4,
 "nbformat_minor": 2
}
